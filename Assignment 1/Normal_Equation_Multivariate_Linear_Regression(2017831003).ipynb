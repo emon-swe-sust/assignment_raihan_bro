{
  "cells": [
    {
      "cell_type": "code",
      "execution_count": null,
      "id": "5eb52b8b",
      "metadata": {
        "id": "5eb52b8b"
      },
      "outputs": [],
      "source": [
        "import pandas as pd\n",
        "import numpy as np\n",
        "import matplotlib.pyplot as plt\n",
        "import seaborn as sns\n",
        "from google.colab import drive\n",
        "from sklearn import preprocessing\n",
        "from numpy.linalg import inv"
      ]
    },
    {
      "cell_type": "code",
      "source": [
        "!gdown 16uFzwzOA31PoWhTSNNe6XdQzprhPIk4h"
      ],
      "metadata": {
        "colab": {
          "base_uri": "https://localhost:8080/"
        },
        "id": "1CZPzgORixOG",
        "outputId": "cea70153-7095-4754-be08-d6ea9ec0f305"
      },
      "id": "1CZPzgORixOG",
      "execution_count": null,
      "outputs": [
        {
          "output_type": "stream",
          "name": "stdout",
          "text": [
            "Downloading...\n",
            "From: https://drive.google.com/uc?id=16uFzwzOA31PoWhTSNNe6XdQzprhPIk4h\n",
            "To: /content/4K_House_Rent_Dataset.csv\n",
            "\r  0% 0.00/567k [00:00<?, ?B/s]\r100% 567k/567k [00:00<00:00, 119MB/s]\n"
          ]
        }
      ]
    },
    {
      "cell_type": "code",
      "execution_count": null,
      "id": "b33b4fc7",
      "metadata": {
        "colab": {
          "base_uri": "https://localhost:8080/",
          "height": 424
        },
        "id": "b33b4fc7",
        "outputId": "c7b93331-4092-4796-cae3-520bf41dee4d"
      },
      "outputs": [
        {
          "output_type": "execute_result",
          "data": {
            "text/plain": [
              "       Posted On  BHK   Rent  Size            Floor    Area Type  \\\n",
              "0     2022-05-18    2  10000  1100  Ground out of 2   Super Area   \n",
              "1     2022-05-13    2  20000   800       1 out of 3   Super Area   \n",
              "2     2022-05-16    2  17000  1000       1 out of 3   Super Area   \n",
              "3     2022-07-04    2  10000   800       1 out of 2   Super Area   \n",
              "4     2022-05-09    2   7500   850       1 out of 2  Carpet Area   \n",
              "...          ...  ...    ...   ...              ...          ...   \n",
              "4741  2022-05-18    2  15000  1000       3 out of 5  Carpet Area   \n",
              "4742  2022-05-15    3  29000  2000       1 out of 4   Super Area   \n",
              "4743  2022-07-10    3  35000  1750       3 out of 5  Carpet Area   \n",
              "4744  2022-07-06    3  45000  1500     23 out of 34  Carpet Area   \n",
              "4745  2022-05-04    2  15000  1000       4 out of 5  Carpet Area   \n",
              "\n",
              "                 Area Locality       City Furnishing Status  Tenant Preferred  \\\n",
              "0                       Bandel    Kolkata       Unfurnished  Bachelors/Family   \n",
              "1     Phool Bagan, Kankurgachi    Kolkata    Semi-Furnished  Bachelors/Family   \n",
              "2      Salt Lake City Sector 2    Kolkata    Semi-Furnished  Bachelors/Family   \n",
              "3                  Dumdum Park    Kolkata       Unfurnished  Bachelors/Family   \n",
              "4                South Dum Dum    Kolkata       Unfurnished         Bachelors   \n",
              "...                        ...        ...               ...               ...   \n",
              "4741              Bandam Kommu  Hyderabad    Semi-Furnished  Bachelors/Family   \n",
              "4742      Manikonda, Hyderabad  Hyderabad    Semi-Furnished  Bachelors/Family   \n",
              "4743      Himayath Nagar, NH 7  Hyderabad    Semi-Furnished  Bachelors/Family   \n",
              "4744                Gachibowli  Hyderabad    Semi-Furnished            Family   \n",
              "4745           Suchitra Circle  Hyderabad       Unfurnished         Bachelors   \n",
              "\n",
              "      Bathroom Point of Contact  \n",
              "0            2    Contact Owner  \n",
              "1            1    Contact Owner  \n",
              "2            1    Contact Owner  \n",
              "3            1    Contact Owner  \n",
              "4            1    Contact Owner  \n",
              "...        ...              ...  \n",
              "4741         2    Contact Owner  \n",
              "4742         3    Contact Owner  \n",
              "4743         3    Contact Agent  \n",
              "4744         2    Contact Agent  \n",
              "4745         2    Contact Owner  \n",
              "\n",
              "[4746 rows x 12 columns]"
            ],
            "text/html": [
              "\n",
              "  <div id=\"df-ce6db1b7-765f-42a7-a07d-25fb718a2d5a\">\n",
              "    <div class=\"colab-df-container\">\n",
              "      <div>\n",
              "<style scoped>\n",
              "    .dataframe tbody tr th:only-of-type {\n",
              "        vertical-align: middle;\n",
              "    }\n",
              "\n",
              "    .dataframe tbody tr th {\n",
              "        vertical-align: top;\n",
              "    }\n",
              "\n",
              "    .dataframe thead th {\n",
              "        text-align: right;\n",
              "    }\n",
              "</style>\n",
              "<table border=\"1\" class=\"dataframe\">\n",
              "  <thead>\n",
              "    <tr style=\"text-align: right;\">\n",
              "      <th></th>\n",
              "      <th>Posted On</th>\n",
              "      <th>BHK</th>\n",
              "      <th>Rent</th>\n",
              "      <th>Size</th>\n",
              "      <th>Floor</th>\n",
              "      <th>Area Type</th>\n",
              "      <th>Area Locality</th>\n",
              "      <th>City</th>\n",
              "      <th>Furnishing Status</th>\n",
              "      <th>Tenant Preferred</th>\n",
              "      <th>Bathroom</th>\n",
              "      <th>Point of Contact</th>\n",
              "    </tr>\n",
              "  </thead>\n",
              "  <tbody>\n",
              "    <tr>\n",
              "      <th>0</th>\n",
              "      <td>2022-05-18</td>\n",
              "      <td>2</td>\n",
              "      <td>10000</td>\n",
              "      <td>1100</td>\n",
              "      <td>Ground out of 2</td>\n",
              "      <td>Super Area</td>\n",
              "      <td>Bandel</td>\n",
              "      <td>Kolkata</td>\n",
              "      <td>Unfurnished</td>\n",
              "      <td>Bachelors/Family</td>\n",
              "      <td>2</td>\n",
              "      <td>Contact Owner</td>\n",
              "    </tr>\n",
              "    <tr>\n",
              "      <th>1</th>\n",
              "      <td>2022-05-13</td>\n",
              "      <td>2</td>\n",
              "      <td>20000</td>\n",
              "      <td>800</td>\n",
              "      <td>1 out of 3</td>\n",
              "      <td>Super Area</td>\n",
              "      <td>Phool Bagan, Kankurgachi</td>\n",
              "      <td>Kolkata</td>\n",
              "      <td>Semi-Furnished</td>\n",
              "      <td>Bachelors/Family</td>\n",
              "      <td>1</td>\n",
              "      <td>Contact Owner</td>\n",
              "    </tr>\n",
              "    <tr>\n",
              "      <th>2</th>\n",
              "      <td>2022-05-16</td>\n",
              "      <td>2</td>\n",
              "      <td>17000</td>\n",
              "      <td>1000</td>\n",
              "      <td>1 out of 3</td>\n",
              "      <td>Super Area</td>\n",
              "      <td>Salt Lake City Sector 2</td>\n",
              "      <td>Kolkata</td>\n",
              "      <td>Semi-Furnished</td>\n",
              "      <td>Bachelors/Family</td>\n",
              "      <td>1</td>\n",
              "      <td>Contact Owner</td>\n",
              "    </tr>\n",
              "    <tr>\n",
              "      <th>3</th>\n",
              "      <td>2022-07-04</td>\n",
              "      <td>2</td>\n",
              "      <td>10000</td>\n",
              "      <td>800</td>\n",
              "      <td>1 out of 2</td>\n",
              "      <td>Super Area</td>\n",
              "      <td>Dumdum Park</td>\n",
              "      <td>Kolkata</td>\n",
              "      <td>Unfurnished</td>\n",
              "      <td>Bachelors/Family</td>\n",
              "      <td>1</td>\n",
              "      <td>Contact Owner</td>\n",
              "    </tr>\n",
              "    <tr>\n",
              "      <th>4</th>\n",
              "      <td>2022-05-09</td>\n",
              "      <td>2</td>\n",
              "      <td>7500</td>\n",
              "      <td>850</td>\n",
              "      <td>1 out of 2</td>\n",
              "      <td>Carpet Area</td>\n",
              "      <td>South Dum Dum</td>\n",
              "      <td>Kolkata</td>\n",
              "      <td>Unfurnished</td>\n",
              "      <td>Bachelors</td>\n",
              "      <td>1</td>\n",
              "      <td>Contact Owner</td>\n",
              "    </tr>\n",
              "    <tr>\n",
              "      <th>...</th>\n",
              "      <td>...</td>\n",
              "      <td>...</td>\n",
              "      <td>...</td>\n",
              "      <td>...</td>\n",
              "      <td>...</td>\n",
              "      <td>...</td>\n",
              "      <td>...</td>\n",
              "      <td>...</td>\n",
              "      <td>...</td>\n",
              "      <td>...</td>\n",
              "      <td>...</td>\n",
              "      <td>...</td>\n",
              "    </tr>\n",
              "    <tr>\n",
              "      <th>4741</th>\n",
              "      <td>2022-05-18</td>\n",
              "      <td>2</td>\n",
              "      <td>15000</td>\n",
              "      <td>1000</td>\n",
              "      <td>3 out of 5</td>\n",
              "      <td>Carpet Area</td>\n",
              "      <td>Bandam Kommu</td>\n",
              "      <td>Hyderabad</td>\n",
              "      <td>Semi-Furnished</td>\n",
              "      <td>Bachelors/Family</td>\n",
              "      <td>2</td>\n",
              "      <td>Contact Owner</td>\n",
              "    </tr>\n",
              "    <tr>\n",
              "      <th>4742</th>\n",
              "      <td>2022-05-15</td>\n",
              "      <td>3</td>\n",
              "      <td>29000</td>\n",
              "      <td>2000</td>\n",
              "      <td>1 out of 4</td>\n",
              "      <td>Super Area</td>\n",
              "      <td>Manikonda, Hyderabad</td>\n",
              "      <td>Hyderabad</td>\n",
              "      <td>Semi-Furnished</td>\n",
              "      <td>Bachelors/Family</td>\n",
              "      <td>3</td>\n",
              "      <td>Contact Owner</td>\n",
              "    </tr>\n",
              "    <tr>\n",
              "      <th>4743</th>\n",
              "      <td>2022-07-10</td>\n",
              "      <td>3</td>\n",
              "      <td>35000</td>\n",
              "      <td>1750</td>\n",
              "      <td>3 out of 5</td>\n",
              "      <td>Carpet Area</td>\n",
              "      <td>Himayath Nagar, NH 7</td>\n",
              "      <td>Hyderabad</td>\n",
              "      <td>Semi-Furnished</td>\n",
              "      <td>Bachelors/Family</td>\n",
              "      <td>3</td>\n",
              "      <td>Contact Agent</td>\n",
              "    </tr>\n",
              "    <tr>\n",
              "      <th>4744</th>\n",
              "      <td>2022-07-06</td>\n",
              "      <td>3</td>\n",
              "      <td>45000</td>\n",
              "      <td>1500</td>\n",
              "      <td>23 out of 34</td>\n",
              "      <td>Carpet Area</td>\n",
              "      <td>Gachibowli</td>\n",
              "      <td>Hyderabad</td>\n",
              "      <td>Semi-Furnished</td>\n",
              "      <td>Family</td>\n",
              "      <td>2</td>\n",
              "      <td>Contact Agent</td>\n",
              "    </tr>\n",
              "    <tr>\n",
              "      <th>4745</th>\n",
              "      <td>2022-05-04</td>\n",
              "      <td>2</td>\n",
              "      <td>15000</td>\n",
              "      <td>1000</td>\n",
              "      <td>4 out of 5</td>\n",
              "      <td>Carpet Area</td>\n",
              "      <td>Suchitra Circle</td>\n",
              "      <td>Hyderabad</td>\n",
              "      <td>Unfurnished</td>\n",
              "      <td>Bachelors</td>\n",
              "      <td>2</td>\n",
              "      <td>Contact Owner</td>\n",
              "    </tr>\n",
              "  </tbody>\n",
              "</table>\n",
              "<p>4746 rows × 12 columns</p>\n",
              "</div>\n",
              "      <button class=\"colab-df-convert\" onclick=\"convertToInteractive('df-ce6db1b7-765f-42a7-a07d-25fb718a2d5a')\"\n",
              "              title=\"Convert this dataframe to an interactive table.\"\n",
              "              style=\"display:none;\">\n",
              "        \n",
              "  <svg xmlns=\"http://www.w3.org/2000/svg\" height=\"24px\"viewBox=\"0 0 24 24\"\n",
              "       width=\"24px\">\n",
              "    <path d=\"M0 0h24v24H0V0z\" fill=\"none\"/>\n",
              "    <path d=\"M18.56 5.44l.94 2.06.94-2.06 2.06-.94-2.06-.94-.94-2.06-.94 2.06-2.06.94zm-11 1L8.5 8.5l.94-2.06 2.06-.94-2.06-.94L8.5 2.5l-.94 2.06-2.06.94zm10 10l.94 2.06.94-2.06 2.06-.94-2.06-.94-.94-2.06-.94 2.06-2.06.94z\"/><path d=\"M17.41 7.96l-1.37-1.37c-.4-.4-.92-.59-1.43-.59-.52 0-1.04.2-1.43.59L10.3 9.45l-7.72 7.72c-.78.78-.78 2.05 0 2.83L4 21.41c.39.39.9.59 1.41.59.51 0 1.02-.2 1.41-.59l7.78-7.78 2.81-2.81c.8-.78.8-2.07 0-2.86zM5.41 20L4 18.59l7.72-7.72 1.47 1.35L5.41 20z\"/>\n",
              "  </svg>\n",
              "      </button>\n",
              "      \n",
              "  <style>\n",
              "    .colab-df-container {\n",
              "      display:flex;\n",
              "      flex-wrap:wrap;\n",
              "      gap: 12px;\n",
              "    }\n",
              "\n",
              "    .colab-df-convert {\n",
              "      background-color: #E8F0FE;\n",
              "      border: none;\n",
              "      border-radius: 50%;\n",
              "      cursor: pointer;\n",
              "      display: none;\n",
              "      fill: #1967D2;\n",
              "      height: 32px;\n",
              "      padding: 0 0 0 0;\n",
              "      width: 32px;\n",
              "    }\n",
              "\n",
              "    .colab-df-convert:hover {\n",
              "      background-color: #E2EBFA;\n",
              "      box-shadow: 0px 1px 2px rgba(60, 64, 67, 0.3), 0px 1px 3px 1px rgba(60, 64, 67, 0.15);\n",
              "      fill: #174EA6;\n",
              "    }\n",
              "\n",
              "    [theme=dark] .colab-df-convert {\n",
              "      background-color: #3B4455;\n",
              "      fill: #D2E3FC;\n",
              "    }\n",
              "\n",
              "    [theme=dark] .colab-df-convert:hover {\n",
              "      background-color: #434B5C;\n",
              "      box-shadow: 0px 1px 3px 1px rgba(0, 0, 0, 0.15);\n",
              "      filter: drop-shadow(0px 1px 2px rgba(0, 0, 0, 0.3));\n",
              "      fill: #FFFFFF;\n",
              "    }\n",
              "  </style>\n",
              "\n",
              "      <script>\n",
              "        const buttonEl =\n",
              "          document.querySelector('#df-ce6db1b7-765f-42a7-a07d-25fb718a2d5a button.colab-df-convert');\n",
              "        buttonEl.style.display =\n",
              "          google.colab.kernel.accessAllowed ? 'block' : 'none';\n",
              "\n",
              "        async function convertToInteractive(key) {\n",
              "          const element = document.querySelector('#df-ce6db1b7-765f-42a7-a07d-25fb718a2d5a');\n",
              "          const dataTable =\n",
              "            await google.colab.kernel.invokeFunction('convertToInteractive',\n",
              "                                                     [key], {});\n",
              "          if (!dataTable) return;\n",
              "\n",
              "          const docLinkHtml = 'Like what you see? Visit the ' +\n",
              "            '<a target=\"_blank\" href=https://colab.research.google.com/notebooks/data_table.ipynb>data table notebook</a>'\n",
              "            + ' to learn more about interactive tables.';\n",
              "          element.innerHTML = '';\n",
              "          dataTable['output_type'] = 'display_data';\n",
              "          await google.colab.output.renderOutput(dataTable, element);\n",
              "          const docLink = document.createElement('div');\n",
              "          docLink.innerHTML = docLinkHtml;\n",
              "          element.appendChild(docLink);\n",
              "        }\n",
              "      </script>\n",
              "    </div>\n",
              "  </div>\n",
              "  "
            ]
          },
          "metadata": {},
          "execution_count": 229
        }
      ],
      "source": [
        "dataframe = pd.read_csv(\"4K_House_Rent_Dataset.csv\")\n",
        "dataframe\n"
      ]
    },
    {
      "cell_type": "code",
      "execution_count": null,
      "id": "0e719a44",
      "metadata": {
        "colab": {
          "base_uri": "https://localhost:8080/",
          "height": 206
        },
        "id": "0e719a44",
        "outputId": "4c1b292c-3a60-4243-cb06-1571586bfc6b"
      },
      "outputs": [
        {
          "output_type": "execute_result",
          "data": {
            "text/plain": [
              "   BHK   Rent  Size    Area Type Furnishing Status  Bathroom\n",
              "0    2  10000  1100   Super Area       Unfurnished         2\n",
              "1    2  20000   800   Super Area    Semi-Furnished         1\n",
              "2    2  17000  1000   Super Area    Semi-Furnished         1\n",
              "3    2  10000   800   Super Area       Unfurnished         1\n",
              "4    2   7500   850  Carpet Area       Unfurnished         1"
            ],
            "text/html": [
              "\n",
              "  <div id=\"df-b8bf8960-bd52-4e29-88d0-7664bf0b690b\">\n",
              "    <div class=\"colab-df-container\">\n",
              "      <div>\n",
              "<style scoped>\n",
              "    .dataframe tbody tr th:only-of-type {\n",
              "        vertical-align: middle;\n",
              "    }\n",
              "\n",
              "    .dataframe tbody tr th {\n",
              "        vertical-align: top;\n",
              "    }\n",
              "\n",
              "    .dataframe thead th {\n",
              "        text-align: right;\n",
              "    }\n",
              "</style>\n",
              "<table border=\"1\" class=\"dataframe\">\n",
              "  <thead>\n",
              "    <tr style=\"text-align: right;\">\n",
              "      <th></th>\n",
              "      <th>BHK</th>\n",
              "      <th>Rent</th>\n",
              "      <th>Size</th>\n",
              "      <th>Area Type</th>\n",
              "      <th>Furnishing Status</th>\n",
              "      <th>Bathroom</th>\n",
              "    </tr>\n",
              "  </thead>\n",
              "  <tbody>\n",
              "    <tr>\n",
              "      <th>0</th>\n",
              "      <td>2</td>\n",
              "      <td>10000</td>\n",
              "      <td>1100</td>\n",
              "      <td>Super Area</td>\n",
              "      <td>Unfurnished</td>\n",
              "      <td>2</td>\n",
              "    </tr>\n",
              "    <tr>\n",
              "      <th>1</th>\n",
              "      <td>2</td>\n",
              "      <td>20000</td>\n",
              "      <td>800</td>\n",
              "      <td>Super Area</td>\n",
              "      <td>Semi-Furnished</td>\n",
              "      <td>1</td>\n",
              "    </tr>\n",
              "    <tr>\n",
              "      <th>2</th>\n",
              "      <td>2</td>\n",
              "      <td>17000</td>\n",
              "      <td>1000</td>\n",
              "      <td>Super Area</td>\n",
              "      <td>Semi-Furnished</td>\n",
              "      <td>1</td>\n",
              "    </tr>\n",
              "    <tr>\n",
              "      <th>3</th>\n",
              "      <td>2</td>\n",
              "      <td>10000</td>\n",
              "      <td>800</td>\n",
              "      <td>Super Area</td>\n",
              "      <td>Unfurnished</td>\n",
              "      <td>1</td>\n",
              "    </tr>\n",
              "    <tr>\n",
              "      <th>4</th>\n",
              "      <td>2</td>\n",
              "      <td>7500</td>\n",
              "      <td>850</td>\n",
              "      <td>Carpet Area</td>\n",
              "      <td>Unfurnished</td>\n",
              "      <td>1</td>\n",
              "    </tr>\n",
              "  </tbody>\n",
              "</table>\n",
              "</div>\n",
              "      <button class=\"colab-df-convert\" onclick=\"convertToInteractive('df-b8bf8960-bd52-4e29-88d0-7664bf0b690b')\"\n",
              "              title=\"Convert this dataframe to an interactive table.\"\n",
              "              style=\"display:none;\">\n",
              "        \n",
              "  <svg xmlns=\"http://www.w3.org/2000/svg\" height=\"24px\"viewBox=\"0 0 24 24\"\n",
              "       width=\"24px\">\n",
              "    <path d=\"M0 0h24v24H0V0z\" fill=\"none\"/>\n",
              "    <path d=\"M18.56 5.44l.94 2.06.94-2.06 2.06-.94-2.06-.94-.94-2.06-.94 2.06-2.06.94zm-11 1L8.5 8.5l.94-2.06 2.06-.94-2.06-.94L8.5 2.5l-.94 2.06-2.06.94zm10 10l.94 2.06.94-2.06 2.06-.94-2.06-.94-.94-2.06-.94 2.06-2.06.94z\"/><path d=\"M17.41 7.96l-1.37-1.37c-.4-.4-.92-.59-1.43-.59-.52 0-1.04.2-1.43.59L10.3 9.45l-7.72 7.72c-.78.78-.78 2.05 0 2.83L4 21.41c.39.39.9.59 1.41.59.51 0 1.02-.2 1.41-.59l7.78-7.78 2.81-2.81c.8-.78.8-2.07 0-2.86zM5.41 20L4 18.59l7.72-7.72 1.47 1.35L5.41 20z\"/>\n",
              "  </svg>\n",
              "      </button>\n",
              "      \n",
              "  <style>\n",
              "    .colab-df-container {\n",
              "      display:flex;\n",
              "      flex-wrap:wrap;\n",
              "      gap: 12px;\n",
              "    }\n",
              "\n",
              "    .colab-df-convert {\n",
              "      background-color: #E8F0FE;\n",
              "      border: none;\n",
              "      border-radius: 50%;\n",
              "      cursor: pointer;\n",
              "      display: none;\n",
              "      fill: #1967D2;\n",
              "      height: 32px;\n",
              "      padding: 0 0 0 0;\n",
              "      width: 32px;\n",
              "    }\n",
              "\n",
              "    .colab-df-convert:hover {\n",
              "      background-color: #E2EBFA;\n",
              "      box-shadow: 0px 1px 2px rgba(60, 64, 67, 0.3), 0px 1px 3px 1px rgba(60, 64, 67, 0.15);\n",
              "      fill: #174EA6;\n",
              "    }\n",
              "\n",
              "    [theme=dark] .colab-df-convert {\n",
              "      background-color: #3B4455;\n",
              "      fill: #D2E3FC;\n",
              "    }\n",
              "\n",
              "    [theme=dark] .colab-df-convert:hover {\n",
              "      background-color: #434B5C;\n",
              "      box-shadow: 0px 1px 3px 1px rgba(0, 0, 0, 0.15);\n",
              "      filter: drop-shadow(0px 1px 2px rgba(0, 0, 0, 0.3));\n",
              "      fill: #FFFFFF;\n",
              "    }\n",
              "  </style>\n",
              "\n",
              "      <script>\n",
              "        const buttonEl =\n",
              "          document.querySelector('#df-b8bf8960-bd52-4e29-88d0-7664bf0b690b button.colab-df-convert');\n",
              "        buttonEl.style.display =\n",
              "          google.colab.kernel.accessAllowed ? 'block' : 'none';\n",
              "\n",
              "        async function convertToInteractive(key) {\n",
              "          const element = document.querySelector('#df-b8bf8960-bd52-4e29-88d0-7664bf0b690b');\n",
              "          const dataTable =\n",
              "            await google.colab.kernel.invokeFunction('convertToInteractive',\n",
              "                                                     [key], {});\n",
              "          if (!dataTable) return;\n",
              "\n",
              "          const docLinkHtml = 'Like what you see? Visit the ' +\n",
              "            '<a target=\"_blank\" href=https://colab.research.google.com/notebooks/data_table.ipynb>data table notebook</a>'\n",
              "            + ' to learn more about interactive tables.';\n",
              "          element.innerHTML = '';\n",
              "          dataTable['output_type'] = 'display_data';\n",
              "          await google.colab.output.renderOutput(dataTable, element);\n",
              "          const docLink = document.createElement('div');\n",
              "          docLink.innerHTML = docLinkHtml;\n",
              "          element.appendChild(docLink);\n",
              "        }\n",
              "      </script>\n",
              "    </div>\n",
              "  </div>\n",
              "  "
            ]
          },
          "metadata": {},
          "execution_count": 230
        }
      ],
      "source": [
        "dataframe.drop(['Posted On','Floor','Area Locality','City','Tenant Preferred','Point of Contact'],axis='columns',inplace=True)\n",
        "dataframe.head()"
      ]
    },
    {
      "cell_type": "code",
      "source": [
        "for column in dataframe:\n",
        "    print(f'{column} : {dataframe[column].unique()}')"
      ],
      "metadata": {
        "colab": {
          "base_uri": "https://localhost:8080/"
        },
        "id": "C7v3_b68mkBb",
        "outputId": "aaf157a2-13fc-4ae8-e380-2449f70e2064"
      },
      "id": "C7v3_b68mkBb",
      "execution_count": null,
      "outputs": [
        {
          "output_type": "stream",
          "name": "stdout",
          "text": [
            "BHK : [2 1 3 6 4 5]\n",
            "Rent : [  10000   20000   17000    7500    7000    5000   26000   25000    6500\n",
            "    5500    8500   40000    6000   11000    7900    9000    4000    8000\n",
            "    5300   12500   15000   22000   21000    7200   12000    4600   30000\n",
            "    3500   16000   14500    8200    6700   18000   35000  180000   14000\n",
            "    3900    6300   13000    6800    4700    4500   17500    2200    9500\n",
            "   16500   10500   50000    5200   24000    3000    3200    1500    3800\n",
            "    6200    9900   36125   23000    5146   22500   34000    1800    3700\n",
            "    3300   60000   65000   45000   70000   75000  160000  300000  130000\n",
            "   33000   32000   49000   28000   33500   85000  270000  400000  150000\n",
            "  100000   19411  190000   68000  110000   44000   43000   57000   27000\n",
            "   55000   95000   80000   89000   38000  350000  170000  210000   47000\n",
            "  120000   62000   42000   41000   84500  220000  310000   53000  250000\n",
            "   13500   25500   45002   48000  140000  230000  600000   46000   55100\n",
            "  320000   92500   29999  330000   36000   53500   61000  200000   19000\n",
            "   18500   19500   90000   93000   69999 1000000   33003  450000  280000\n",
            "   56000   83000   39000   15500   51000  260000   43500   77500   59000\n",
            "   72000   52000   51500   98000   23500 1200000   84000  500000    9400\n",
            "   94000   58000   54500   67000  380000   29500   37000   35500   90100\n",
            "   77000  290000  240000   26500   54000   76000   79500   63000   28500\n",
            "  360000   66000  650000  850000   34999   49500   46700   88000   78000\n",
            "   74999   69000   29000   31000  700000  680000   61500   11400   11500\n",
            "   32900    6900   27500    9750 3500000    8900   21500    9300   26969\n",
            "   42500    4300    4800   17681   13900    7700    4750   17600    9250\n",
            "   14900   20500    2000   17401   44300  530000   20200   31500   22999\n",
            "   12100   24500    7600   11200   34500    5700   23999    5250   47500\n",
            "   18999    4200   15723    6250   37500    6166    9800   19397   27999\n",
            "   10677   32500   23382   19800    1200    5400   12333   21467    5800]\n",
            "Size : [1100  800 1000  850  600  700  250 1200  400  375  900 1286 2000  660\n",
            "  650  300 1600  355  350  550  500  630  270 1500 1300 1068  150  450\n",
            "  720  680  950 1800  480  435 1450  750  220   20  200  840  740  490\n",
            "  751  280  120 1220  670  190  240 2200  685   44 1110  392  710 1400\n",
            "  160 1250  839  230  620 1350  723  320 2160 1700  130  505 4000 1190\n",
            " 1012  812  420 1750  830 1050  960  756  288  986 1330  322 3500  957\n",
            " 1430 1320  475  780  570  460  530  558  175  425  721 1150 2210  675\n",
            " 1880  640 1650  518  777 2308  890  888  275  424 2079  586  610  488\n",
            "  722  470  410  540  932  560 3000  696 2500  715 1337  737  760  365\n",
            " 2600 1783  565 1514 1080  825  360 1545  432  695 1095  790  661  330\n",
            "  925 1105 1460  415  585 1755  385  628 1064  845 1915  807  380  428\n",
            " 1550 1454  860  433 2700 1225 1224  305  690  635 1379  390  935  535\n",
            " 3700 1208 3200  225  463 1900 1325  905  455  430  795  575  656  719\n",
            " 3064 3400  980 2800  413 1850 1705 1355  340  471 1528 1030  985  806\n",
            "  583  994  520 2750 2424  724 1076 2170  485  478  704  525  755  625\n",
            "  370  805  742  745 1265  325  902 1233 2120 1937 5000  596 1950  510\n",
            " 1260  770 3900  694 3250 1740  472  421  515  831  753 1197  880 1088\n",
            " 2650  975  785 1016  444  508  623 1358 1255  955  870 1691  615  663\n",
            " 1432  649  882  736 1710  555 1065  854  906 1130  495  407 1092  669\n",
            "  725  999 1256  889  434 1121  937  379  920  440  582 1617  836 2046\n",
            "  730  229  910 1648  820  771 1526  465 1073  310  967 1649 1560 4500\n",
            " 1425 1375 1270  265  422  895 1663  377 2080  965 2100 1380  868  970\n",
            "  774 1152  641  810  875  758 2880 1962  590 1120 2729 3354 1040 1403\n",
            " 2608 1045 1021 1280 1680 1155 2900 3150  100 1603 1771  773  865 1840\n",
            " 1159   50  990 1360 1757 1281 1221  416  976 1387 1020 1645 3276 1893\n",
            " 1296 4800 1066 2150 2110 1025 1180  580  904 1252 2770  144 1005 1274\n",
            " 1480 1115 1060 1278 4105 1055  894 2400 2430 1475 4341  846  110 5700\n",
            " 1760 3100  775  445 2710 1768  532 1465  940 1789 1618 1374 1580 4550\n",
            " 1333 1875 1660 1305 1188 2390 1788 1520 1464  180  140   75 1670   70\n",
            "   60  170   48 1901  145   25  892   80   45 1125  713   54   63 1440\n",
            "   55   68   65 2300   84   90  512  446  125  499   30  497   95  272\n",
            " 2925  106   96  545  165 1872   40   42 2550 3800 1205   77 1027 1428\n",
            " 2117 1462  674 1540  930 1210 1234 1162 1261 1145 3600 1158  898  717\n",
            " 1070 2036  619  115 1725 2064 1557  917  579 1920 1002  778 1567 1113\n",
            " 1175 1010  618 1651  705  901 1340 1246 1099 1530 1780 1402 1484 1140\n",
            " 1525 1132 3300  786 1785  803 1975  914 1170 1435 1444 1503  966 1062\n",
            " 1015 1570 1157 2792 1153  506  749 1107 1235 1415  281 6000  926 2280\n",
            "  826  502  833  809 2240 1424  595 1075 2317 1109 1290  939 1610  973\n",
            " 1420  843 1144 1903 1383 1912 1146  909  886 1625 1535  647 1798 2061\n",
            "  919 2395 1815 2290 1473 4050 2520  242 1496  878 1956 1955 1090 3133\n",
            " 2050 1160 1417 1565 1675 1135 3698 2405 1248 3115  927  562 1720  103\n",
            " 8000 1730  133  192 1315 1230 4761 1970 1940  167  933 1742 1838 1960\n",
            " 1275 1285 2235 1283 3455 3050 7000 1606 2352 2671 1156   67 1492 2990\n",
            " 2780 1685  853 2310 1965 1834   10 3789 1422 1124 4200  214  855]\n",
            "Area Type : ['Super Area' 'Carpet Area' 'Built Area']\n",
            "Furnishing Status : ['Unfurnished' 'Semi-Furnished' 'Furnished']\n",
            "Bathroom : [ 2  1  3  5  4  6  7 10]\n"
          ]
        }
      ]
    },
    {
      "cell_type": "code",
      "execution_count": null,
      "id": "901a876b",
      "metadata": {
        "id": "901a876b"
      },
      "outputs": [],
      "source": [
        "dataframe['Area Type'].replace({'Super Area' : 0,'Carpet Area' : 1, 'Built Area': 2},inplace=True)\n",
        "dataframe['Furnishing Status'].replace({'Unfurnished' : 0,'Semi-Furnished' : 1, 'Furnished': 2},inplace=True)"
      ]
    },
    {
      "cell_type": "code",
      "execution_count": null,
      "id": "03683ae4",
      "metadata": {
        "id": "03683ae4"
      },
      "outputs": [],
      "source": [
        "# cols = ['BHK','Size','Area Type','Furnishing Status','Bathroom']\n",
        "# # scaler = preprocessing.MinMaxScaler()\n",
        "# # dataframe[cols] = scaler.fit_transform(dataframe[cols])\n",
        "# dataframe.head()"
      ]
    },
    {
      "cell_type": "code",
      "execution_count": null,
      "id": "34647e10",
      "metadata": {
        "id": "34647e10",
        "colab": {
          "base_uri": "https://localhost:8080/",
          "height": 206
        },
        "outputId": "cc00101e-de42-44f3-a24a-002156132108"
      },
      "outputs": [
        {
          "output_type": "execute_result",
          "data": {
            "text/plain": [
              "   BHK  Size  Area Type  Furnishing Status  Bathroom\n",
              "0    2  1100          0                  0         2\n",
              "1    2   800          0                  1         1\n",
              "2    2  1000          0                  1         1\n",
              "3    2   800          0                  0         1\n",
              "4    2   850          1                  0         1"
            ],
            "text/html": [
              "\n",
              "  <div id=\"df-05b8c2fb-6f8e-4dcd-a70d-281b6965bfb9\">\n",
              "    <div class=\"colab-df-container\">\n",
              "      <div>\n",
              "<style scoped>\n",
              "    .dataframe tbody tr th:only-of-type {\n",
              "        vertical-align: middle;\n",
              "    }\n",
              "\n",
              "    .dataframe tbody tr th {\n",
              "        vertical-align: top;\n",
              "    }\n",
              "\n",
              "    .dataframe thead th {\n",
              "        text-align: right;\n",
              "    }\n",
              "</style>\n",
              "<table border=\"1\" class=\"dataframe\">\n",
              "  <thead>\n",
              "    <tr style=\"text-align: right;\">\n",
              "      <th></th>\n",
              "      <th>BHK</th>\n",
              "      <th>Size</th>\n",
              "      <th>Area Type</th>\n",
              "      <th>Furnishing Status</th>\n",
              "      <th>Bathroom</th>\n",
              "    </tr>\n",
              "  </thead>\n",
              "  <tbody>\n",
              "    <tr>\n",
              "      <th>0</th>\n",
              "      <td>2</td>\n",
              "      <td>1100</td>\n",
              "      <td>0</td>\n",
              "      <td>0</td>\n",
              "      <td>2</td>\n",
              "    </tr>\n",
              "    <tr>\n",
              "      <th>1</th>\n",
              "      <td>2</td>\n",
              "      <td>800</td>\n",
              "      <td>0</td>\n",
              "      <td>1</td>\n",
              "      <td>1</td>\n",
              "    </tr>\n",
              "    <tr>\n",
              "      <th>2</th>\n",
              "      <td>2</td>\n",
              "      <td>1000</td>\n",
              "      <td>0</td>\n",
              "      <td>1</td>\n",
              "      <td>1</td>\n",
              "    </tr>\n",
              "    <tr>\n",
              "      <th>3</th>\n",
              "      <td>2</td>\n",
              "      <td>800</td>\n",
              "      <td>0</td>\n",
              "      <td>0</td>\n",
              "      <td>1</td>\n",
              "    </tr>\n",
              "    <tr>\n",
              "      <th>4</th>\n",
              "      <td>2</td>\n",
              "      <td>850</td>\n",
              "      <td>1</td>\n",
              "      <td>0</td>\n",
              "      <td>1</td>\n",
              "    </tr>\n",
              "  </tbody>\n",
              "</table>\n",
              "</div>\n",
              "      <button class=\"colab-df-convert\" onclick=\"convertToInteractive('df-05b8c2fb-6f8e-4dcd-a70d-281b6965bfb9')\"\n",
              "              title=\"Convert this dataframe to an interactive table.\"\n",
              "              style=\"display:none;\">\n",
              "        \n",
              "  <svg xmlns=\"http://www.w3.org/2000/svg\" height=\"24px\"viewBox=\"0 0 24 24\"\n",
              "       width=\"24px\">\n",
              "    <path d=\"M0 0h24v24H0V0z\" fill=\"none\"/>\n",
              "    <path d=\"M18.56 5.44l.94 2.06.94-2.06 2.06-.94-2.06-.94-.94-2.06-.94 2.06-2.06.94zm-11 1L8.5 8.5l.94-2.06 2.06-.94-2.06-.94L8.5 2.5l-.94 2.06-2.06.94zm10 10l.94 2.06.94-2.06 2.06-.94-2.06-.94-.94-2.06-.94 2.06-2.06.94z\"/><path d=\"M17.41 7.96l-1.37-1.37c-.4-.4-.92-.59-1.43-.59-.52 0-1.04.2-1.43.59L10.3 9.45l-7.72 7.72c-.78.78-.78 2.05 0 2.83L4 21.41c.39.39.9.59 1.41.59.51 0 1.02-.2 1.41-.59l7.78-7.78 2.81-2.81c.8-.78.8-2.07 0-2.86zM5.41 20L4 18.59l7.72-7.72 1.47 1.35L5.41 20z\"/>\n",
              "  </svg>\n",
              "      </button>\n",
              "      \n",
              "  <style>\n",
              "    .colab-df-container {\n",
              "      display:flex;\n",
              "      flex-wrap:wrap;\n",
              "      gap: 12px;\n",
              "    }\n",
              "\n",
              "    .colab-df-convert {\n",
              "      background-color: #E8F0FE;\n",
              "      border: none;\n",
              "      border-radius: 50%;\n",
              "      cursor: pointer;\n",
              "      display: none;\n",
              "      fill: #1967D2;\n",
              "      height: 32px;\n",
              "      padding: 0 0 0 0;\n",
              "      width: 32px;\n",
              "    }\n",
              "\n",
              "    .colab-df-convert:hover {\n",
              "      background-color: #E2EBFA;\n",
              "      box-shadow: 0px 1px 2px rgba(60, 64, 67, 0.3), 0px 1px 3px 1px rgba(60, 64, 67, 0.15);\n",
              "      fill: #174EA6;\n",
              "    }\n",
              "\n",
              "    [theme=dark] .colab-df-convert {\n",
              "      background-color: #3B4455;\n",
              "      fill: #D2E3FC;\n",
              "    }\n",
              "\n",
              "    [theme=dark] .colab-df-convert:hover {\n",
              "      background-color: #434B5C;\n",
              "      box-shadow: 0px 1px 3px 1px rgba(0, 0, 0, 0.15);\n",
              "      filter: drop-shadow(0px 1px 2px rgba(0, 0, 0, 0.3));\n",
              "      fill: #FFFFFF;\n",
              "    }\n",
              "  </style>\n",
              "\n",
              "      <script>\n",
              "        const buttonEl =\n",
              "          document.querySelector('#df-05b8c2fb-6f8e-4dcd-a70d-281b6965bfb9 button.colab-df-convert');\n",
              "        buttonEl.style.display =\n",
              "          google.colab.kernel.accessAllowed ? 'block' : 'none';\n",
              "\n",
              "        async function convertToInteractive(key) {\n",
              "          const element = document.querySelector('#df-05b8c2fb-6f8e-4dcd-a70d-281b6965bfb9');\n",
              "          const dataTable =\n",
              "            await google.colab.kernel.invokeFunction('convertToInteractive',\n",
              "                                                     [key], {});\n",
              "          if (!dataTable) return;\n",
              "\n",
              "          const docLinkHtml = 'Like what you see? Visit the ' +\n",
              "            '<a target=\"_blank\" href=https://colab.research.google.com/notebooks/data_table.ipynb>data table notebook</a>'\n",
              "            + ' to learn more about interactive tables.';\n",
              "          element.innerHTML = '';\n",
              "          dataTable['output_type'] = 'display_data';\n",
              "          await google.colab.output.renderOutput(dataTable, element);\n",
              "          const docLink = document.createElement('div');\n",
              "          docLink.innerHTML = docLinkHtml;\n",
              "          element.appendChild(docLink);\n",
              "        }\n",
              "      </script>\n",
              "    </div>\n",
              "  </div>\n",
              "  "
            ]
          },
          "metadata": {},
          "execution_count": 234
        }
      ],
      "source": [
        "y = dataframe['Rent']\n",
        "x = dataframe.drop('Rent',axis='columns')\n",
        "x.head()"
      ]
    },
    {
      "cell_type": "code",
      "source": [
        "x = np.hstack((np.ones((len(dataframe), 1)), x))\n",
        "x[:5]"
      ],
      "metadata": {
        "colab": {
          "base_uri": "https://localhost:8080/"
        },
        "id": "Z8-ZPIxGqA2P",
        "outputId": "5f10fb14-2805-441e-8a9d-5b59f66c39dc"
      },
      "id": "Z8-ZPIxGqA2P",
      "execution_count": null,
      "outputs": [
        {
          "output_type": "execute_result",
          "data": {
            "text/plain": [
              "array([[1.0e+00, 2.0e+00, 1.1e+03, 0.0e+00, 0.0e+00, 2.0e+00],\n",
              "       [1.0e+00, 2.0e+00, 8.0e+02, 0.0e+00, 1.0e+00, 1.0e+00],\n",
              "       [1.0e+00, 2.0e+00, 1.0e+03, 0.0e+00, 1.0e+00, 1.0e+00],\n",
              "       [1.0e+00, 2.0e+00, 8.0e+02, 0.0e+00, 0.0e+00, 1.0e+00],\n",
              "       [1.0e+00, 2.0e+00, 8.5e+02, 1.0e+00, 0.0e+00, 1.0e+00]])"
            ]
          },
          "metadata": {},
          "execution_count": 235
        }
      ]
    },
    {
      "cell_type": "markdown",
      "id": "f5531302",
      "metadata": {
        "id": "f5531302"
      },
      "source": [
        "# Normal Equation"
      ]
    },
    {
      "cell_type": "code",
      "execution_count": null,
      "id": "3b88b250",
      "metadata": {
        "id": "3b88b250"
      },
      "outputs": [],
      "source": [
        "def calculateTheta():\n",
        "  XTX = np.matmul(x.T, x)\n",
        "  XTY = np.matmul(x.T,y)\n",
        "  inverse_XTX = inv(XTX)\n",
        "  theta = np.matmul(inverse_XTX, XTY)\n",
        "  return theta"
      ]
    },
    {
      "cell_type": "code",
      "execution_count": null,
      "id": "82ef23ef",
      "metadata": {
        "colab": {
          "base_uri": "https://localhost:8080/"
        },
        "id": "82ef23ef",
        "outputId": "01ef92ad-143c-4c0b-910c-8c2123201063"
      },
      "outputs": [
        {
          "output_type": "stream",
          "name": "stdout",
          "text": [
            "Theta [-4.78723430e+04 -2.30749254e+03  2.62171622e+01  2.33881778e+04\n",
            "  6.42681663e+03  2.34376966e+04]\n"
          ]
        }
      ],
      "source": [
        "theta = calculateTheta()\n",
        "print(\"Theta\", theta)"
      ]
    },
    {
      "cell_type": "code",
      "source": [
        "def predict(X_test):\n",
        "  # x = []\n",
        "  # x.append(X_test[0])\n",
        "  # x = x + list(scaler.transform([X_test[1:6]])[0])\n",
        "  x = X_test\n",
        "  return np.sum(np.multiply(x, theta))\n",
        "print(\"Prediction \", predict([1, 3, 1800, 0, 1, 1]))"
      ],
      "metadata": {
        "colab": {
          "base_uri": "https://localhost:8080/"
        },
        "id": "_kYRHo_Ivx4z",
        "outputId": "3fd8606e-bc6f-4dbe-adf2-03303491ebc2"
      },
      "id": "_kYRHo_Ivx4z",
      "execution_count": null,
      "outputs": [
        {
          "output_type": "stream",
          "name": "stdout",
          "text": [
            "Prediction  22260.5845612407\n"
          ]
        }
      ]
    },
    {
      "cell_type": "code",
      "execution_count": null,
      "id": "c01d9c65",
      "metadata": {
        "id": "c01d9c65"
      },
      "outputs": [],
      "source": [
        "def compute_cost(x, y, theta):\n",
        "    predictions = x.dot(theta)\n",
        "    errors = np.subtract(predictions, y)\n",
        "    sqrErrors = np.square(errors)\n",
        "    J = 1 / (2 * len(dataframe)) * np.sum(sqrErrors)\n",
        "    return J"
      ]
    },
    {
      "cell_type": "code",
      "execution_count": null,
      "id": "a3d1f02b",
      "metadata": {
        "colab": {
          "base_uri": "https://localhost:8080/"
        },
        "id": "a3d1f02b",
        "outputId": "da74c715-895e-45c9-e698-72fcb76b53ab"
      },
      "outputs": [
        {
          "output_type": "execute_result",
          "data": {
            "text/plain": [
              "2328402243.3940825"
            ]
          },
          "metadata": {},
          "execution_count": 240
        }
      ],
      "source": [
        "cost = compute_cost(x, y, theta)  \n",
        "cost"
      ]
    },
    {
      "cell_type": "markdown",
      "source": [
        "## Plotting\n"
      ],
      "metadata": {
        "id": "j4cZY44W8Q9C"
      },
      "id": "j4cZY44W8Q9C"
    },
    {
      "cell_type": "code",
      "source": [
        "import matplotlib.pyplot as plt"
      ],
      "metadata": {
        "id": "lp_Vrs6d_Tro"
      },
      "id": "lp_Vrs6d_Tro",
      "execution_count": null,
      "outputs": []
    },
    {
      "cell_type": "code",
      "source": [
        "def plot(x, y, label_x, label_y, theta, theta0):\n",
        "  lin_x = np.linspace(np.min(x), np.max(x), 10)\n",
        "  reg_line = theta * lin_x + theta0\n",
        "  plt.plot(lin_x, reg_line, c='r', label='Regression Line')\n",
        "  plt.scatter(x, y, label = 'Scatter Plot')\n",
        "  plt.xlabel(label_x)\n",
        "  plt.ylabel(label_y)\n",
        "  plt.legend()\n",
        "  plt.show()"
      ],
      "metadata": {
        "id": "ilK6DL84wmyG"
      },
      "id": "ilK6DL84wmyG",
      "execution_count": null,
      "outputs": []
    },
    {
      "cell_type": "code",
      "source": [
        "plot(dataframe['BHK'], y, \"Size\", \"Rent\", theta[1], theta[0])"
      ],
      "metadata": {
        "colab": {
          "base_uri": "https://localhost:8080/",
          "height": 290
        },
        "id": "4rVLWafdFDZx",
        "outputId": "98535dcf-f873-48c5-c362-018bea4155ee"
      },
      "id": "4rVLWafdFDZx",
      "execution_count": null,
      "outputs": [
        {
          "output_type": "display_data",
          "data": {
            "text/plain": [
              "<Figure size 432x288 with 1 Axes>"
            ],
            "image/png": "[encoded data removed]"
          },
          "metadata": {
            "needs_background": "light"
          }
        }
      ]
    },
    {
      "cell_type": "code",
      "source": [
        "plot(dataframe['Size'], y, \"Size\", \"Rent\", theta[2], theta[0])"
      ],
      "metadata": {
        "colab": {
          "base_uri": "https://localhost:8080/",
          "height": 290
        },
        "id": "aufb2AaE_Zxo",
        "outputId": "1c01e463-ab31-43c1-e6cf-bca730ab1e78"
      },
      "id": "aufb2AaE_Zxo",
      "execution_count": null,
      "outputs": [
        {
          "output_type": "display_data",
          "data": {
            "text/plain": [
              "<Figure size 432x288 with 1 Axes>"
            ],
            "image/png": "[encoded data removed]"
          },
          "metadata": {
            "needs_background": "light"
          }
        }
      ]
    },
    {
      "cell_type": "code",
      "source": [
        "plot(dataframe['Area Type'], y, \"Size\", \"Rent\", theta[3], theta[0])"
      ],
      "metadata": {
        "colab": {
          "base_uri": "https://localhost:8080/",
          "height": 290
        },
        "id": "jVjfAi70_mId",
        "outputId": "5d376900-6a05-45e3-e339-a6ef4f5db6ab"
      },
      "id": "jVjfAi70_mId",
      "execution_count": null,
      "outputs": [
        {
          "output_type": "display_data",
          "data": {
            "text/plain": [
              "<Figure size 432x288 with 1 Axes>"
            ],
            "image/png": "[encoded data removed]"
          },
          "metadata": {
            "needs_background": "light"
          }
        }
      ]
    },
    {
      "cell_type": "code",
      "source": [
        "plot(dataframe['Furnishing Status'], y, \"Size\", \"Rent\", theta[4], theta[0])"
      ],
      "metadata": {
        "colab": {
          "base_uri": "https://localhost:8080/",
          "height": 290
        },
        "id": "e8eKzGUtE7O8",
        "outputId": "cd729827-8c6b-43e5-b860-0ab7624ea8c0"
      },
      "id": "e8eKzGUtE7O8",
      "execution_count": null,
      "outputs": [
        {
          "output_type": "display_data",
          "data": {
            "text/plain": [
              "<Figure size 432x288 with 1 Axes>"
            ],
            "image/png": "[encoded data removed]"
          },
          "metadata": {
            "needs_background": "light"
          }
        }
      ]
    },
    {
      "cell_type": "code",
      "source": [
        "plot(dataframe['Bathroom'], y, \"Size\", \"Rent\", theta[5], theta[0])"
      ],
      "metadata": {
        "colab": {
          "base_uri": "https://localhost:8080/",
          "height": 290
        },
        "id": "TfhCikCeFLk9",
        "outputId": "823f2514-ba23-4054-c5ab-1f37657515d3"
      },
      "id": "TfhCikCeFLk9",
      "execution_count": null,
      "outputs": [
        {
          "output_type": "display_data",
          "data": {
            "text/plain": [
              "<Figure size 432x288 with 1 Axes>"
            ],
            "image/png": "[encoded data removed]"
          },
          "metadata": {
            "needs_background": "light"
          }
        }
      ]
    },
    {
      "cell_type": "code",
      "source": [],
      "metadata": {
        "id": "KJFd_LphFQvQ"
      },
      "id": "KJFd_LphFQvQ",
      "execution_count": null,
      "outputs": []
    }
  ],
  "metadata": {
    "kernelspec": {
      "display_name": "Python 3 (ipykernel)",
      "language": "python",
      "name": "python3"
    },
    "language_info": {
      "codemirror_mode": {
        "name": "ipython",
        "version": 3
      },
      "file_extension": ".py",
      "mimetype": "text/x-python",
      "name": "python",
      "nbconvert_exporter": "python",
      "pygments_lexer": "ipython3",
      "version": "3.9.7"
    },
    "colab": {
      "provenance": []
    }
  },
  "nbformat": 4,
  "nbformat_minor": 5
}