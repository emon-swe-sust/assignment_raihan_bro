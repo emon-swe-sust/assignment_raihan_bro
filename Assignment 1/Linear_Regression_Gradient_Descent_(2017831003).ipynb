{
  "nbformat": 4,
  "nbformat_minor": 0,
  "metadata": {
    "colab": {
      "provenance": []
    },
    "kernelspec": {
      "name": "python3",
      "display_name": "Python 3"
    },
    "language_info": {
      "name": "python"
    },
    "accelerator": "GPU"
  },
  "cells": [
    {
      "cell_type": "code",
      "source": [
        "!gdown 16uFzwzOA31PoWhTSNNe6XdQzprhPIk4h"
      ],
      "metadata": {
        "colab": {
          "base_uri": "https://localhost:8080/"
        },
        "id": "TJ8nieJYiPu9",
        "outputId": "5851b23c-8c12-44c3-d082-7db01a6d6523"
      },
      "execution_count": null,
      "outputs": [
        {
          "output_type": "stream",
          "name": "stdout",
          "text": [
            "Downloading...\n",
            "From: https://drive.google.com/uc?id=16uFzwzOA31PoWhTSNNe6XdQzprhPIk4h\n",
            "To: /content/4K_House_Rent_Dataset.csv\n",
            "\r  0% 0.00/567k [00:00<?, ?B/s]\r100% 567k/567k [00:00<00:00, 125MB/s]\n"
          ]
        }
      ]
    },
    {
      "cell_type": "code",
      "source": [
        "import pandas as pd\n",
        "import numpy as np"
      ],
      "metadata": {
        "id": "ymgXLC_BYFpu"
      },
      "execution_count": null,
      "outputs": []
    },
    {
      "cell_type": "code",
      "source": [
        "data = pd.read_csv(\"4K_House_Rent_Dataset.csv\")\n",
        "print(data.head())"
      ],
      "metadata": {
        "colab": {
          "base_uri": "https://localhost:8080/"
        },
        "id": "qLlYcmF6YPBo",
        "outputId": "1461a947-5d10-4591-e623-84bad3183afa"
      },
      "execution_count": null,
      "outputs": [
        {
          "output_type": "stream",
          "name": "stdout",
          "text": [
            "    Posted On  BHK   Rent  Size            Floor    Area Type  \\\n",
            "0  2022-05-18    2  10000  1100  Ground out of 2   Super Area   \n",
            "1  2022-05-13    2  20000   800       1 out of 3   Super Area   \n",
            "2  2022-05-16    2  17000  1000       1 out of 3   Super Area   \n",
            "3  2022-07-04    2  10000   800       1 out of 2   Super Area   \n",
            "4  2022-05-09    2   7500   850       1 out of 2  Carpet Area   \n",
            "\n",
            "              Area Locality     City Furnishing Status  Tenant Preferred  \\\n",
            "0                    Bandel  Kolkata       Unfurnished  Bachelors/Family   \n",
            "1  Phool Bagan, Kankurgachi  Kolkata    Semi-Furnished  Bachelors/Family   \n",
            "2   Salt Lake City Sector 2  Kolkata    Semi-Furnished  Bachelors/Family   \n",
            "3               Dumdum Park  Kolkata       Unfurnished  Bachelors/Family   \n",
            "4             South Dum Dum  Kolkata       Unfurnished         Bachelors   \n",
            "\n",
            "   Bathroom Point of Contact  \n",
            "0         2    Contact Owner  \n",
            "1         1    Contact Owner  \n",
            "2         1    Contact Owner  \n",
            "3         1    Contact Owner  \n",
            "4         1    Contact Owner  \n"
          ]
        }
      ]
    },
    {
      "cell_type": "code",
      "source": [
        "bhk = np.array(data[\"BHK\"].values)\n",
        "print(bhk, np.unique(bhk))\n",
        "\n",
        "furnish = np.array(data[\"Furnishing Status\"])\n",
        "unique_furnish = np.unique(furnish)\n",
        "\n",
        "area_type = np.array(data[\"Area Type\"].values)\n",
        "unique_area_type = np.unique(area_type)"
      ],
      "metadata": {
        "colab": {
          "base_uri": "https://localhost:8080/"
        },
        "id": "sry3PPqzaG1r",
        "outputId": "0715292d-ce1b-4076-f180-66e6abe3bbb1"
      },
      "execution_count": null,
      "outputs": [
        {
          "output_type": "stream",
          "name": "stdout",
          "text": [
            "[2 2 2 ... 3 3 2] [1 2 3 4 5 6]\n"
          ]
        }
      ]
    },
    {
      "cell_type": "code",
      "source": [
        "def normalize(arr):\n",
        "  denom = max(arr) - min(arr)\n",
        "  avg = np.mean(arr)\n",
        "\n",
        "  temp = np.empty(len(arr));\n",
        "  for i in range(len(arr)):\n",
        "    temp[i] = (arr[i]-avg) / denom\n",
        "  return temp"
      ],
      "metadata": {
        "id": "CFktrSMqdGi7"
      },
      "execution_count": null,
      "outputs": []
    },
    {
      "cell_type": "code",
      "source": [
        "x1, x2, x4, y = data[\"BHK\"].values, data[\"Size\"].values, data[\"Bathroom\"].values, data[\"Rent\"].values\n",
        "x3 = data[\"Area Type\"].replace({\"Built Area\": 0, \"Carpet Area\": 1, \"Super Area\": 2}).values\n",
        "x5 = data[\"Furnishing Status\"].replace({\"Unfurnished\": 0, \"Semi-Furnished\": 1, \"Furnished\": 2}).values\n",
        "\n",
        "x1, x2, x3, x4, x5 = normalize(np.array(x1)), normalize(np.array(x2)), normalize(np.array(x3)), normalize(np.array(x4)), normalize(np.array(x5))\n",
        "x1, x2, x3, x4, x5"
      ],
      "metadata": {
        "id": "Sjt3lcYHYV5X",
        "colab": {
          "base_uri": "https://localhost:8080/"
        },
        "outputId": "90dddf43-f0a3-4305-edf3-452f84fba7a5"
      },
      "execution_count": null,
      "outputs": [
        {
          "output_type": "execute_result",
          "data": {
            "text/plain": [
              "(array([-0.01677202, -0.01677202, -0.01677202, ...,  0.18322798,\n",
              "         0.18322798, -0.01677202]),\n",
              " array([ 0.01658439, -0.02096254,  0.00406874, ...,  0.09793608,\n",
              "         0.06664697,  0.00406874]),\n",
              " array([ 0.24252002,  0.24252002,  0.24252002, ..., -0.25747998,\n",
              "        -0.25747998, -0.25747998]),\n",
              " array([ 0.00379267, -0.10731844, -0.10731844, ...,  0.11490378,\n",
              "         0.00379267,  0.00379267]),\n",
              " array([-0.38042562,  0.11957438,  0.11957438, ...,  0.11957438,\n",
              "         0.11957438, -0.38042562]))"
            ]
          },
          "metadata": {},
          "execution_count": 7
        }
      ]
    },
    {
      "cell_type": "code",
      "source": [
        "Y = np.array(y)\n",
        "X = np.array([[a0,a1,a2,a3, a4, a5] for a0,a1,a2,a3, a4, a5 in zip(np.ones(len(y)),x1,x2,x3,x4,x5)])\n",
        "\n",
        "print(X[2:10])\n",
        "print(Y[2:10])"
      ],
      "metadata": {
        "id": "hF5yYA0SYV8F",
        "colab": {
          "base_uri": "https://localhost:8080/"
        },
        "outputId": "5890aea2-2d4f-4a42-ccd8-250d8eabfb7f"
      },
      "execution_count": null,
      "outputs": [
        {
          "output_type": "stream",
          "name": "stdout",
          "text": [
            "[[ 1.         -0.01677202  0.00406874  0.24252002 -0.10731844  0.11957438]\n",
            " [ 1.         -0.01677202 -0.02096254  0.24252002 -0.10731844 -0.38042562]\n",
            " [ 1.         -0.01677202 -0.01470472 -0.25747998 -0.10731844 -0.38042562]\n",
            " [ 1.         -0.01677202 -0.04599383  0.24252002  0.00379267 -0.38042562]\n",
            " [ 1.         -0.01677202 -0.03347819  0.24252002  0.00379267 -0.38042562]\n",
            " [ 1.         -0.21677202 -0.08979859  0.24252002 -0.10731844 -0.38042562]\n",
            " [ 1.         -0.01677202 -0.02096254 -0.25747998  0.00379267 -0.38042562]\n",
            " [ 1.         -0.01677202  0.00406874 -0.25747998  0.00379267  0.11957438]]\n",
            "[17000 10000  7500  7000 10000  5000 26000 10000]\n"
          ]
        }
      ]
    },
    {
      "cell_type": "markdown",
      "source": [
        "Gradient **Descent** Method"
      ],
      "metadata": {
        "id": "irpTL3_fYenm"
      }
    },
    {
      "cell_type": "code",
      "source": [
        "def LinReg_with_gradient_descent(X, y, alpha, epoch):\n",
        "  m = X.shape[0]\n",
        "  n = X.shape[1]\n",
        "  Theta = np.ones(n)\n",
        "  h = np.dot(X, Theta)\n",
        "\n",
        "  # Gradient Descent algorithm\n",
        "  cost = np.ones(epoch)\n",
        "  for i in range(epoch):\n",
        "\n",
        "    for j in range(n):\n",
        "      Theta[j] = Theta[j] - (alpha / m) * np.sum(np.multiply(h-y, X[:, j]))\n",
        "    h = np.dot(X, Theta)\n",
        "    cost = 0.5/m * np.sum(np.square(h-y))\n",
        "\n",
        "  return Theta\n",
        "\n",
        "theta = LinReg_with_gradient_descent(X, Y, .9, 100000)"
      ],
      "metadata": {
        "id": "vX6M1BJ0Yf7O"
      },
      "execution_count": null,
      "outputs": []
    },
    {
      "cell_type": "code",
      "source": [
        "def single_normalize(arr, val):\n",
        "  denom = max(arr)-min(arr)\n",
        "  return (val-np.mean(arr)) / denom"
      ],
      "metadata": {
        "id": "362vAML-socj"
      },
      "execution_count": null,
      "outputs": []
    },
    {
      "cell_type": "code",
      "source": [
        "def predict(X_test):\n",
        "  return np.dot(X_test, theta)\n",
        "print(\"Prediction for (BHK: 2, Size: 1100, Area Type: 1, Bathroom: 2, Furnished Status: 2): \", predict(np.array([1,  single_normalize(x1, 2), single_normalize(x2, 1100), single_normalize(x3, 1), single_normalize(x4, 2), single_normalize(x5, 2)]) ))"
      ],
      "metadata": {
        "colab": {
          "base_uri": "https://localhost:8080/"
        },
        "id": "Qn3pVgn8lqoA",
        "outputId": "0cc3204c-ee11-4cbd-c6ff-35a2d77ca672"
      },
      "execution_count": null,
      "outputs": [
        {
          "output_type": "stream",
          "name": "stdout",
          "text": [
            "Prediction for (BHK: 2, Size: 1100, Area Type: 1, Bathroom: 2, Furnished Status: 2):  230835366.80905926\n"
          ]
        }
      ]
    },
    {
      "cell_type": "code",
      "source": [
        "import matplotlib.pyplot as plt"
      ],
      "metadata": {
        "id": "IBPIywRTnSrv"
      },
      "execution_count": null,
      "outputs": []
    },
    {
      "cell_type": "code",
      "source": [
        "def plot(x, y, label_x, label_y, theta, theta0):\n",
        "  lin_x = np.linspace(np.min(x), np.max(x), 10)\n",
        "  reg_line = theta * lin_x + theta0\n",
        "  plt.plot(lin_x, reg_line, c='r', label='Regression Line')\n",
        "  plt.scatter(x, y, label = 'Scatter Plot')\n",
        "  plt.xlabel(label_x)\n",
        "  plt.ylabel(label_y)\n",
        "  plt.legend()\n",
        "  plt.show()"
      ],
      "metadata": {
        "id": "5LzL4QIcnVo9"
      },
      "execution_count": null,
      "outputs": []
    },
    {
      "cell_type": "code",
      "source": [
        "plot(x1, y, \"BHK\", \"Rent\", theta[1], theta[0])\n",
        "plot(x2, y, \"Size\", \"Rent\", theta[2], theta[0])\n",
        "plot(x3, y, \"Area Type\", \"Rent\", theta[3], theta[0])\n",
        "plot(x1, y, \"Bathroom\", \"Rent\", theta[4], theta[0])\n",
        "plot(x1, y, \"Furnished Status\", \"Rent\", theta[5], theta[0])"
      ],
      "metadata": {
        "colab": {
          "base_uri": "https://localhost:8080/",
          "height": 1000
        },
        "id": "1sbUgSBFnZw0",
        "outputId": "8d177a1d-63e1-4ed4-b6c9-601e798727c9"
      },
      "execution_count": null,
      "outputs": [
        {
          "output_type": "display_data",
          "data": {
            "text/plain": [
              "<Figure size 432x288 with 1 Axes>"
            ],
            "image/png": "[encoded data removed]"
          },
          "metadata": {
            "needs_background": "light"
          }
        },
        {
          "output_type": "display_data",
          "data": {
            "text/plain": [
              "<Figure size 432x288 with 1 Axes>"
            ],
            "image/png": "[encoded data removed]"
          },
          "metadata": {
            "needs_background": "light"
          }
        },
        {
          "output_type": "display_data",
          "data": {
            "text/plain": [
              "<Figure size 432x288 with 1 Axes>"
            ],
            "image/png": "[encoded data removed]"
          },
          "metadata": {
            "needs_background": "light"
          }
        },
        {
          "output_type": "display_data",
          "data": {
            "text/plain": [
              "<Figure size 432x288 with 1 Axes>"
            ],
            "image/png": "[encoded data removed]"
          },
          "metadata": {
            "needs_background": "light"
          }
        },
        {
          "output_type": "display_data",
          "data": {
            "text/plain": [
              "<Figure size 432x288 with 1 Axes>"
            ],
            "image/png": "[encoded data removed]"
          },
          "metadata": {
            "needs_background": "light"
          }
        }
      ]
    },
    {
      "cell_type": "code",
      "source": [],
      "metadata": {
        "id": "gba2AfTc34JA"
      },
      "execution_count": null,
      "outputs": []
    }
  ]
}