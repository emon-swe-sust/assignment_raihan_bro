{
  "cells": [
    {
      "cell_type": "code",
      "execution_count": null,
      "metadata": {
        "id": "nFG3u4CvoBYU"
      },
      "outputs": [],
      "source": [
        "import os\n",
        "import numpy as np\n",
        "import tensorflow as tf\n",
        "import numpy as np\n",
        "import matplotlib.pyplot as plt\n",
        "import PIL\n",
        "import cv2\n",
        "from tensorflow import keras\n",
        "from tensorflow.keras.preprocessing import image\n",
        "from tensorflow.keras.preprocessing.image import ImageDataGenerator\n",
        "from tensorflow.keras.models import Sequential, load_model\n",
        "from tensorflow.keras.optimizers import RMSprop\n",
        "from tensorflow.keras.callbacks import ReduceLROnPlateau\n",
        "from tensorflow.keras.layers import Dense, Flatten, Conv2D, Dropout, MaxPooling2D, AvgPool2D\n",
        "from tensorflow.keras.callbacks import CSVLogger, ModelCheckpoint, ReduceLROnPlateau, EarlyStopping\n",
        "from sklearn.model_selection import train_test_split"
      ]
    },
    {
      "cell_type": "code",
      "execution_count": null,
      "metadata": {
        "colab": {
          "base_uri": "https://localhost:8080/"
        },
        "id": "55XmsbVllyj-",
        "outputId": "32b120dc-3d38-4378-8c8c-438683f86a0d"
      },
      "outputs": [
        {
          "name": "stdout",
          "output_type": "stream",
          "text": [
            "Drive already mounted at /content/drive; to attempt to forcibly remount, call drive.mount(\"/content/drive\", force_remount=True).\n"
          ]
        }
      ],
      "source": [
        "from google.colab import drive\n",
        "drive.mount('/content/drive')"
      ]
    },
    {
      "cell_type": "code",
      "execution_count": null,
      "metadata": {
        "colab": {
          "base_uri": "https://localhost:8080/"
        },
        "id": "O-66VKjysU7s",
        "outputId": "df42ea08-73cc-4015-fb28-b366f0439e84"
      },
      "outputs": [],
      "source": [
        "# data_dir = '/content/CNN_dataset'\n",
        "\n",
        "# Define the path to the zipped folder in your Drive\n",
        "zip_path = '/content/drive/MyDrive/Dataset/CNN_dataset.zip'\n",
        "\n",
        "# Define the path where you want to extract the contents of the zip file\n",
        "extract_path = '/content/drive/MyDrive/Dataset'\n",
        "\n",
        "# Unzip the folder using the !unzip command\n",
        "!unzip '{zip_path}' -d '{extract_path}'"
      ]
    },
    {
      "cell_type": "code",
      "execution_count": null,
      "metadata": {
        "colab": {
          "base_uri": "https://localhost:8080/"
        },
        "id": "TInvOsekojM5",
        "outputId": "cb3a1030-4163-4963-f2f5-aa8266a88c37"
      },
      "outputs": [
        {
          "name": "stdout",
          "output_type": "stream",
          "text": [
            "Dimension (64, 64)\n",
            "Categories ['AbdomenCT', 'CXR', 'ChestCT', 'Hand', 'HeadCT']\n",
            "Images per category [10000, 10000, 10000, 10000, 10000]\n"
          ]
        }
      ],
      "source": [
        "data_dir = '/content/drive/MyDrive/Dataset/CNN_dataset'\n",
        "\n",
        "# Get the names of the subdirectories in the data directory\n",
        "categories = sorted(x for x in os.listdir(data_dir) if os.path.isdir(os.path.join(data_dir, x)))\n",
        "\n",
        "# Count the number of subdirectories (i.e., categories)\n",
        "total_categories = len(categories)\n",
        "\n",
        "# Create a list of image file paths for each category\n",
        "img_per_category = [sorted(os.listdir(os.path.join(data_dir, categories[i]))) for i in range(total_categories)]\n",
        "\n",
        "# Count the number of images in each category\n",
        "img_per_category_count = [len(img_per_category[i]) for i in range(total_categories)]\n",
        "\n",
        "# Combine all the image file paths into a single list\n",
        "image_file = [os.path.join(data_dir, categories[i], x) for i in range(total_categories) for x in img_per_category[i]]\n",
        "\n",
        "# Create a list of image categories, where each element corresponds to the category of the corresponding image file in image_file_list\n",
        "image_category = [i for i in range(total_categories) for _ in img_per_category[i]]\n",
        "\n",
        "# Count the total number of images\n",
        "total_image_count = len(image_file)\n",
        "\n",
        "# Get the dimensions of the first image in the list (assuming all images have the same dimensions)\n",
        "dimension = PIL.Image.open(image_file[0]).size\n",
        "\n",
        "# Print some information about the data\n",
        "print(\"Dimension\", dimension)\n",
        "print(\"Categories\", categories)\n",
        "print(\"Images per category\", img_per_category_count)\n"
      ]
    },
    {
      "cell_type": "code",
      "execution_count": null,
      "metadata": {
        "id": "Plrv-Ug-DapV"
      },
      "outputs": [],
      "source": [
        "image_list = []\n",
        "for image_path in image_file:\n",
        "  image = cv2.imread(image_path, cv2.IMREAD_GRAYSCALE)\n",
        "  image_list.append(image)"
      ]
    },
    {
      "cell_type": "code",
      "execution_count": null,
      "metadata": {
        "colab": {
          "base_uri": "https://localhost:8080/"
        },
        "id": "TqOPhXIuD3dG",
        "outputId": "94240b40-1974-4544-dc14-24c0e1182917"
      },
      "outputs": [
        {
          "name": "stdout",
          "output_type": "stream",
          "text": [
            "x_train shape: (40000, 64, 64)\n",
            "y_train shape: (40000,)\n",
            "x_val shape: (5000, 64, 64)\n",
            "y_val shape: (5000,)\n",
            "x_test shape: (5000, 64, 64)\n",
            "y_test shape: (5000,)\n"
          ]
        }
      ],
      "source": [
        "# convert image_list and image_category to numpy arrays\n",
        "image_list = np.array(image_list)\n",
        "image_category = np.array(image_category)\n",
        "\n",
        "# Split data into train and test sets\n",
        "x_train, x_test, y_train, y_test = train_test_split(image_list, image_category, \n",
        "                                                    test_size=0.1, \n",
        "                                                    stratify=image_category, \n",
        "                                                    random_state=42)\n",
        "\n",
        "# Split train data into train and validation sets\n",
        "x_train, x_val, y_train, y_val = train_test_split(x_train, y_train, \n",
        "                                                  test_size=0.1/(1-0.1), \n",
        "                                                  stratify=y_train, \n",
        "                                                  random_state=42)\n",
        "\n",
        "print(\"x_train shape:\", x_train.shape)\n",
        "print(\"y_train shape:\", y_train.shape)\n",
        "print(\"x_val shape:\", x_val.shape)\n",
        "print(\"y_val shape:\", y_val.shape)\n",
        "print(\"x_test shape:\", x_test.shape)\n",
        "print(\"y_test shape:\", y_test.shape)"
      ]
    },
    {
      "cell_type": "code",
      "execution_count": null,
      "metadata": {
        "colab": {
          "base_uri": "https://localhost:8080/",
          "height": 284
        },
        "id": "KXuh5LrmFKt6",
        "outputId": "0726f179-ec82-4674-c535-f9e60d814768"
      },
      "outputs": [
        {
          "data": {
            "text/plain": [
              "<matplotlib.image.AxesImage at 0x7f79744cabe0>"
            ]
          },
          "execution_count": 55,
          "metadata": {},
          "output_type": "execute_result"
        },
        {
          "data": {
            "image/png": "[encoded data removed]",
            "text/plain": [
              "<Figure size 432x288 with 1 Axes>"
            ]
          },
          "metadata": {},
          "output_type": "display_data"
        }
      ],
      "source": [
        "plt.xticks([])\n",
        "plt.yticks([])\n",
        "plt.xlabel(categories[y_train[903]])\n",
        "plt.imshow(x_train[903],cmap=plt.cm.binary)"
      ]
    },
    {
      "cell_type": "code",
      "execution_count": 56,
      "metadata": {
        "colab": {
          "base_uri": "https://localhost:8080/"
        },
        "id": "6w1uEoGxpbLU",
        "outputId": "aecfcd03-1ffb-441c-efd6-05d230f534bc"
      },
      "outputs": [
        {
          "name": "stdout",
          "output_type": "stream",
          "text": [
            "Model: \"sequential_2\"\n",
            "_________________________________________________________________\n",
            " Layer (type)                Output Shape              Param #   \n",
            "=================================================================\n",
            " conv2d_5 (Conv2D)           (None, 64, 64, 64)        640       \n",
            "                                                                 \n",
            " max_pooling2d_5 (MaxPooling  (None, 32, 32, 64)       0         \n",
            " 2D)                                                             \n",
            "                                                                 \n",
            " dropout_7 (Dropout)         (None, 32, 32, 64)        0         \n",
            "                                                                 \n",
            " conv2d_6 (Conv2D)           (None, 32, 32, 32)        18464     \n",
            "                                                                 \n",
            " max_pooling2d_6 (MaxPooling  (None, 16, 16, 32)       0         \n",
            " 2D)                                                             \n",
            "                                                                 \n",
            " dropout_8 (Dropout)         (None, 16, 16, 32)        0         \n",
            "                                                                 \n",
            " conv2d_7 (Conv2D)           (None, 16, 16, 16)        4624      \n",
            "                                                                 \n",
            " max_pooling2d_7 (MaxPooling  (None, 8, 8, 16)         0         \n",
            " 2D)                                                             \n",
            "                                                                 \n",
            " dropout_9 (Dropout)         (None, 8, 8, 16)          0         \n",
            "                                                                 \n",
            " flatten_2 (Flatten)         (None, 1024)              0         \n",
            "                                                                 \n",
            " dense_4 (Dense)             (None, 256)               262400    \n",
            "                                                                 \n",
            " dropout_10 (Dropout)        (None, 256)               0         \n",
            "                                                                 \n",
            " dense_5 (Dense)             (None, 5)                 1285      \n",
            "                                                                 \n",
            "=================================================================\n",
            "Total params: 287,413\n",
            "Trainable params: 287,413\n",
            "Non-trainable params: 0\n",
            "_________________________________________________________________\n"
          ]
        }
      ],
      "source": [
        "model = tf.keras.Sequential()\n",
        "# Must define the input shape in the first layer of the neural network\n",
        "model.add(Conv2D(filters=64, kernel_size=(3,3),strides=(1, 1), padding='same', activation='relu', input_shape=(64,64,1))) \n",
        "model.add(MaxPooling2D(pool_size=(2,2)))\n",
        "model.add(Dropout(0.1))\n",
        "model.add(Conv2D(filters=32, kernel_size=(3,3),strides=(1, 1), padding='same', activation='relu'))\n",
        "model.add(MaxPooling2D(pool_size=(2,2)))\n",
        "model.add(Dropout(0.2))\n",
        "model.add(Conv2D(filters=16, kernel_size=(3,3),strides=(1, 1), padding='same', activation='relu'))\n",
        "model.add(MaxPooling2D(pool_size=(2,2)))\n",
        "model.add(Dropout(0.3))\n",
        "model.add(Flatten())\n",
        "model.add(Dense(256, activation='relu'))\n",
        "model.add(Dropout(0.5))\n",
        "model.add(Dense(5, activation='softmax'))\n",
        "# Take a look at the model summary\n",
        "model.summary()"
      ]
    },
    {
      "cell_type": "code",
      "execution_count": null,
      "metadata": {
        "id": "QCvhNLguHCp4"
      },
      "outputs": [],
      "source": [
        "model.compile(loss='sparse_categorical_crossentropy', optimizer='adam', metrics=['accuracy'])"
      ]
    },
    {
      "cell_type": "code",
      "execution_count": null,
      "metadata": {
        "colab": {
          "base_uri": "https://localhost:8080/"
        },
        "id": "KWo-EyfFHHqV",
        "outputId": "c1577b8e-303a-46fa-ca30-7ddaf296fe11"
      },
      "outputs": [
        {
          "name": "stdout",
          "output_type": "stream",
          "text": [
            "Epoch 1/10\n",
            "280/280 [==============================] - 207s 738ms/step - loss: 0.1491 - accuracy: 0.9463 - val_loss: 0.0289 - val_accuracy: 0.9921\n",
            "Epoch 2/10\n",
            "280/280 [==============================] - 207s 740ms/step - loss: 0.0663 - accuracy: 0.9783 - val_loss: 0.0181 - val_accuracy: 0.9948\n",
            "Epoch 3/10\n",
            "280/280 [==============================] - 207s 740ms/step - loss: 0.0386 - accuracy: 0.9872 - val_loss: 0.0171 - val_accuracy: 0.9942\n",
            "Epoch 4/10\n",
            "280/280 [==============================] - 203s 727ms/step - loss: 0.0329 - accuracy: 0.9889 - val_loss: 0.0132 - val_accuracy: 0.9958\n",
            "Epoch 5/10\n",
            "280/280 [==============================] - 203s 724ms/step - loss: 0.0248 - accuracy: 0.9917 - val_loss: 0.0104 - val_accuracy: 0.9959\n",
            "Epoch 6/10\n",
            "280/280 [==============================] - 202s 722ms/step - loss: 0.0235 - accuracy: 0.9921 - val_loss: 0.0144 - val_accuracy: 0.9976\n",
            "Epoch 7/10\n",
            "280/280 [==============================] - 202s 723ms/step - loss: 0.0182 - accuracy: 0.9936 - val_loss: 0.0081 - val_accuracy: 0.9986\n",
            "Epoch 8/10\n",
            "280/280 [==============================] - 203s 724ms/step - loss: 0.0137 - accuracy: 0.9959 - val_loss: 0.0086 - val_accuracy: 0.9979\n",
            "Epoch 9/10\n",
            "280/280 [==============================] - 201s 719ms/step - loss: 0.0153 - accuracy: 0.9951 - val_loss: 0.0089 - val_accuracy: 0.9983\n",
            "Epoch 10/10\n",
            "280/280 [==============================] - 202s 721ms/step - loss: 0.0150 - accuracy: 0.9961 - val_loss: 0.0080 - val_accuracy: 0.9976\n"
          ]
        }
      ],
      "source": [
        "model_log=model.fit(x_train, y_train,\n",
        "          batch_size=100,\n",
        "          epochs=10,\n",
        "          verbose=1,\n",
        "          validation_split=.3)"
      ]
    },
    {
      "cell_type": "code",
      "execution_count": null,
      "metadata": {
        "colab": {
          "base_uri": "https://localhost:8080/"
        },
        "id": "WSb14bHIHKwE",
        "outputId": "6c685e25-77e9-4183-9dd6-fb3270fdffed"
      },
      "outputs": [
        {
          "name": "stdout",
          "output_type": "stream",
          "text": [
            "\n",
            " Test accuracy: 0.9990000128746033\n"
          ]
        }
      ],
      "source": [
        "# Evaluate the model on test set\n",
        "score = model.evaluate(x_test, y_test, verbose=0)\n",
        "# Print test accuracy\n",
        "print('\\n', 'Test accuracy:', score[1])"
      ]
    },
    {
      "cell_type": "code",
      "execution_count": null,
      "metadata": {
        "colab": {
          "base_uri": "https://localhost:8080/"
        },
        "id": "-bEHDII0P0SH",
        "outputId": "ced8df61-40a2-48a5-9130-797c890ee4da"
      },
      "outputs": [
        {
          "name": "stdout",
          "output_type": "stream",
          "text": [
            "157/157 [==============================] - 9s 54ms/step\n"
          ]
        },
        {
          "data": {
            "text/plain": [
              "array([1.2568386e-04, 8.8816392e-05, 9.9955189e-01, 1.1046122e-05,\n",
              "       2.2257534e-04, 6.1205380e-10, 2.6282089e-08, 1.8807771e-08,\n",
              "       1.9698414e-09, 3.3859040e-09], dtype=float32)"
            ]
          },
          "execution_count": 50,
          "metadata": {},
          "output_type": "execute_result"
        }
      ],
      "source": [
        "predictions = model.predict(x_test)\n",
        "predictions[0]"
      ]
    },
    {
      "cell_type": "code",
      "execution_count": null,
      "metadata": {
        "colab": {
          "base_uri": "https://localhost:8080/",
          "height": 284
        },
        "id": "dOdzvisbP7SS",
        "outputId": "3dffa1ac-0eec-43a8-ff96-f4525f640394"
      },
      "outputs": [
        {
          "data": {
            "text/plain": [
              "<matplotlib.image.AxesImage at 0x7f796601fc70>"
            ]
          },
          "execution_count": 54,
          "metadata": {},
          "output_type": "execute_result"
        },
        {
          "data": {
            "image/png": "[encoded data removed]",
            "text/plain": [
              "<Figure size 432x288 with 1 Axes>"
            ]
          },
          "metadata": {},
          "output_type": "display_data"
        }
      ],
      "source": [
        "# Show one of the images from the test dataset\n",
        "plt.xticks([])\n",
        "plt.yticks([])\n",
        "plt.xlabel([y_train[33]])\n",
        "plt.imshow(x_test[33],cmap=plt.cm.binary)"
      ]
    },
    {
      "cell_type": "code",
      "execution_count": null,
      "metadata": {
        "colab": {
          "base_uri": "https://localhost:8080/",
          "height": 297
        },
        "id": "ayta1M0CQLBR",
        "outputId": "02d0732a-2927-42f7-9704-b3e5a626e9bb"
      },
      "outputs": [
        {
          "data": {
            "image/png": "[encoded data removed]",
            "text/plain": [
              "<Figure size 432x288 with 2 Axes>"
            ]
          },
          "metadata": {
            "needs_background": "light"
          },
          "output_type": "display_data"
        }
      ],
      "source": [
        "# plotting the metrics\n",
        "fig = plt.figure()\n",
        "plt.subplot(2,1,1)\n",
        "plt.plot(model_log.history['accuracy'])\n",
        "plt.plot(model_log.history['val_accuracy'])\n",
        "plt.title('model accuracy')\n",
        "plt.ylabel('accuracy')\n",
        "plt.xlabel('epoch')\n",
        "plt.legend(['train', 'test'], loc='lower right')\n",
        "plt.subplot(2,1,2)\n",
        "plt.plot(model_log.history['loss'])\n",
        "plt.plot(model_log.history['val_loss'])\n",
        "plt.title('model loss')\n",
        "plt.ylabel('loss')\n",
        "plt.xlabel('epoch')\n",
        "plt.legend(['train', 'test'], loc='upper right')\n",
        "plt.tight_layout()"
      ]
    }
  ],
  "metadata": {
    "colab": {
      "provenance": []
    },
    "kernelspec": {
      "display_name": "Python 3",
      "language": "python",
      "name": "python3"
    },
    "language_info": {
      "name": "python",
      "version": "3.11.1"
    },
    "vscode": {
      "interpreter": {
        "hash": "aee8b7b246df8f9039afb4144a1f6fd8d2ca17a180786b69acc140d282b71a49"
      }
    }
  },
  "nbformat": 4,
  "nbformat_minor": 0
}
